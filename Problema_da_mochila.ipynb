{
  "nbformat": 4,
  "nbformat_minor": 0,
  "metadata": {
    "colab": {
      "provenance": [],
      "toc_visible": true,
      "authorship_tag": "ABX9TyOUA4kHt1vYZONDfO4XBH6b",
      "include_colab_link": true
    },
    "kernelspec": {
      "name": "python3",
      "display_name": "Python 3"
    },
    "language_info": {
      "name": "python"
    }
  },
  "cells": [
    {
      "cell_type": "markdown",
      "metadata": {
        "id": "view-in-github",
        "colab_type": "text"
      },
      "source": [
        "<a href=\"https://colab.research.google.com/github/Stelaaa/POKnapsackProblem/blob/main/Problema_da_mochila.ipynb\" target=\"_parent\"><img src=\"https://colab.research.google.com/assets/colab-badge.svg\" alt=\"Open In Colab\"/></a>"
      ]
    },
    {
      "cell_type": "markdown",
      "source": [
        "# Problema da mochila"
      ],
      "metadata": {
        "id": "2YHajXuyBjd_"
      }
    },
    {
      "cell_type": "markdown",
      "source": [
        "outras referencias:\n",
        "https://vitorebatista.medium.com/algoritmo-gen%C3%A9tico-para-o-problema-da-mochila-5910f90f9488\n",
        "\n"
      ],
      "metadata": {
        "id": "RSCswXx5CAU3"
      }
    },
    {
      "cell_type": "markdown",
      "source": [
        "### Método aleatório"
      ],
      "metadata": {
        "id": "eqmZx_7mCJv7"
      }
    },
    {
      "cell_type": "code",
      "source": [
        "import numpy as np\n",
        "\n",
        "# Parâmetros do problema\n",
        "pesos = np.array([2, 3, 5, 7, 1])  # Pesos dos itens\n",
        "valores = np.array([10, 5, 15, 7, 6])  # Valores dos itens\n",
        "capacidade = 10  # Capacidade da mochila\n",
        "num_tentativas = 1000  # Número de soluções aleatórias a serem testadas\n",
        "\n",
        "# Função para gerar uma solução aleatória\n",
        "def gerar_solucao_aleatoria(n):\n",
        "    return np.random.randint(2, size=n)  # Gera um vetor de 0s e 1s (1 = item selecionado)\n",
        "\n",
        "# Função para avaliar uma solução\n",
        "def avaliar_solucao(solucao, pesos, valores, capacidade):\n",
        "    peso_total = np.dot(solucao, pesos)  # np.dot multiplica o array e calcula o peso total da solução\n",
        "    if peso_total > capacidade:\n",
        "        return -1  # Solução inválida (ultrapassa a capacidade)\n",
        "    return np.dot(solucao, valores)  # Retorna o valor total da solução\n",
        "\n",
        "# Método aleatório para resolver o problema da mochila\n",
        "def resolver_mochila_aleatorio(pesos, valores, capacidade, num_tentativas):\n",
        "    melhor_solucao = None\n",
        "    melhor_valor = -1\n",
        "\n",
        "    for _ in range(num_tentativas):\n",
        "        solucao = gerar_solucao_aleatoria(len(pesos))  # Gera uma solução aleatória\n",
        "        valor = avaliar_solucao(solucao, pesos, valores, capacidade)  # Avalia a solução\n",
        "\n",
        "        if valor > melhor_valor:  # Atualiza a melhor solução encontrada\n",
        "            melhor_solucao = solucao\n",
        "            melhor_valor = valor\n",
        "\n",
        "    return melhor_solucao, melhor_valor\n",
        "\n",
        "# Resolve o problema\n",
        "melhor_solucao, melhor_valor = resolver_mochila_aleatorio(pesos, valores, capacidade, num_tentativas)\n",
        "\n",
        "# Exibe os resultados\n",
        "print(\"Melhor solução encontrada:\", melhor_solucao)\n",
        "print(\"Valor total da solução:\", melhor_valor)\n",
        "print(\"Peso total da solução:\", np.dot(melhor_solucao, pesos))"
      ],
      "metadata": {
        "colab": {
          "base_uri": "https://localhost:8080/"
        },
        "id": "Fg5oFHGgDGp3",
        "outputId": "bb941bce-cbe2-445d-ab4b-07aa1d1e73c8"
      },
      "execution_count": 1,
      "outputs": [
        {
          "output_type": "stream",
          "name": "stdout",
          "text": [
            "Melhor solução encontrada: [1 0 1 0 1]\n",
            "Valor total da solução: 31\n",
            "Peso total da solução: 8\n"
          ]
        }
      ]
    },
    {
      "cell_type": "markdown",
      "source": [
        "## Metodo força bruta"
      ],
      "metadata": {
        "id": "XlAVTA02IPCE"
      }
    },
    {
      "cell_type": "code",
      "source": [
        "def calcular_valor_mochila(combinacao, pesos, valores, capacidade):\n",
        "\n",
        "    peso_total = 0  # Inicializa o peso total da combinação.\n",
        "    valor_total = 0  # Inicializa o valor total da combinação.\n",
        "\n",
        "    # Itera sobre cada item na combinação.\n",
        "    for i in range(len(combinacao)):\n",
        "        if combinacao[i] == 1:  # Se o item foi selecionado.\n",
        "            peso_total += pesos[i]  # Adiciona o peso do item ao peso total.\n",
        "            valor_total += valores[i]  # Adiciona o valor do item ao valor total.\n",
        "\n",
        "    # Verifica se o peso total excede a capacidade da mochila.\n",
        "    if peso_total > capacidade:\n",
        "        return -1  # Retorna -1 para indicar que a combinação é inválida.\n",
        "    else:\n",
        "        return valor_total, peso_total  # Retorna o valor total e o peso total da combinação.\n",
        "\n",
        "# Parâmetros do problema\n",
        "pesos = [2, 3, 5, 7, 1]  # Pesos dos itens\n",
        "valores = [10, 5, 15, 7, 6]  # Valores dos itens\n",
        "capacidade = 10  # Capacidade da mochila\n",
        "n = len(pesos)  # Número de itens\n",
        "\n",
        "# Encontra a melhor combinação\n",
        "melhor_combinacao = None\n",
        "melhor_valor = -1\n",
        "melhor_peso = 0\n",
        "\n",
        "# Itera sobre todas as combinações possíveis (2^n)\n",
        "for i in range(2**n):\n",
        "    combinacao = []\n",
        "    # Converte o número i para uma combinação de 0s e 1s\n",
        "    for j in range(n):\n",
        "        combinacao.append((i >> j) & 1)  # Verifica se o j-ésimo bit de i está ligado\n",
        "\n",
        "    # Calcula o valor e o peso da combinação\n",
        "    resultado = calcular_valor_mochila(combinacao, pesos, valores, capacidade)\n",
        "    if resultado != -1:  # Se a combinação for válida\n",
        "        valor, peso = resultado\n",
        "        if valor > melhor_valor:  # Se o valor for maior que o melhor valor encontrado\n",
        "            melhor_combinacao = combinacao\n",
        "            melhor_valor = valor\n",
        "            melhor_peso = peso\n",
        "\n",
        "# Exibe a melhor combinação no formato solicitado\n",
        "print(\"Melhor solução encontrada:\", melhor_combinacao)\n",
        "print(\"Valor total da solução:\", melhor_valor)\n",
        "print(\"Peso total da solução:\", melhor_peso)"
      ],
      "metadata": {
        "id": "Gq13HMYFBm5N",
        "colab": {
          "base_uri": "https://localhost:8080/"
        },
        "outputId": "5d31bf5f-8c8c-47bf-d64b-397f961b7cff"
      },
      "execution_count": 8,
      "outputs": [
        {
          "output_type": "stream",
          "name": "stdout",
          "text": [
            "Melhor solução encontrada: [1, 0, 1, 0, 1]\n",
            "Valor total da solução: 31\n",
            "Peso total da solução: 8\n"
          ]
        }
      ]
    },
    {
      "cell_type": "code",
      "execution_count": null,
      "metadata": {
        "id": "Z1WSFJaYBXvV"
      },
      "outputs": [],
      "source": []
    },
    {
      "cell_type": "markdown",
      "source": [
        "## Algoritmo Genético"
      ],
      "metadata": {
        "id": "diofyMxAPTQb"
      }
    },
    {
      "cell_type": "code",
      "source": [
        "import random\n",
        "\n",
        "# Parâmetros do problema\n",
        "pesos = [2, 3, 5, 7, 1]  # Pesos dos itens\n",
        "valores = [10, 5, 15, 7, 6]  # Valores dos itens\n",
        "capacidade = 10  # Capacidade da mochila\n",
        "n = len(pesos)  # Número de itens\n",
        "\n",
        "# Parâmetros do algoritmo genético\n",
        "tamanho_populacao = 10  # Número de indivíduos na população\n",
        "num_geracoes = 20  # Número de gerações\n",
        "taxa_mutacao = 0.1  # Chance de um gene (0 ou 1) sofrer mutação\n",
        "\n",
        "# Função para criar um indivíduo aleatório\n",
        "def criar_individuo():\n",
        "    return [random.randint(0, 1) for _ in range(n)]  # Lista de 0s e 1s aleatórios\n",
        "\n",
        "# Função para calcular a nota (fitness) de um indivíduo\n",
        "def calcular_nota(individuo):\n",
        "    peso_total = sum(pesos[i] for i in range(n) if individuo[i] == 1)\n",
        "    valor_total = sum(valores[i] for i in range(n) if individuo[i] == 1)\n",
        "    if peso_total > capacidade:\n",
        "        return 0  # Nota zero se o peso exceder a capacidade\n",
        "    else:\n",
        "        return valor_total  # Nota é o valor total dos itens na mochila\n",
        "\n",
        "# Função para selecionar os melhores indivíduos\n",
        "def selecionar_pais(populacao):\n",
        "    # Ordena a população pela nota (do maior para o menor)\n",
        "    populacao_ordenada = sorted(populacao, key=calcular_nota, reverse=True)\n",
        "    # Escolhe os 50% melhores para serem pais\n",
        "    return populacao_ordenada[:tamanho_populacao // 2]\n",
        "\n",
        "# Função para fazer crossover (reprodução)\n",
        "def crossover(pai1, pai2):\n",
        "    ponto_corte = random.randint(1, n - 1)  # Escolhe um ponto de corte aleatório\n",
        "    filho1 = pai1[:ponto_corte] + pai2[ponto_corte:]  # Mistura partes dos pais\n",
        "    filho2 = pai2[:ponto_corte] + pai1[ponto_corte:]\n",
        "    return filho1, filho2\n",
        "\n",
        "# Função para aplicar mutação\n",
        "def mutar(individuo):\n",
        "    for i in range(n):\n",
        "        if random.random() < taxa_mutacao:  # Chance de mutação\n",
        "            individuo[i] = 1 - individuo[i]  # Troca 0 por 1 ou 1 por 0\n",
        "    return individuo\n",
        "\n",
        "# Cria a população inicial\n",
        "populacao = [criar_individuo() for _ in range(tamanho_populacao)]\n",
        "\n",
        "# Executa o algoritmo genético\n",
        "for geracao in range(num_geracoes):\n",
        "    # Seleciona os pais\n",
        "    pais = selecionar_pais(populacao)\n",
        "\n",
        "    # Cria a próxima geração\n",
        "    nova_geracao = []\n",
        "    while len(nova_geracao) < tamanho_populacao:\n",
        "        pai1, pai2 = random.sample(pais, 2)  # Escolhe dois pais aleatórios\n",
        "        filho1, filho2 = crossover(pai1, pai2)  # Faz crossover\n",
        "        nova_geracao.append(mutar(filho1))  # Aplica mutação e adiciona à nova geração\n",
        "        nova_geracao.append(mutar(filho2))\n",
        "\n",
        "    # Substitui a população antiga pela nova\n",
        "    populacao = nova_geracao\n",
        "\n",
        "# Encontra o melhor indivíduo da última geração\n",
        "melhor_individuo = max(populacao, key=calcular_nota)\n",
        "melhor_nota = calcular_nota(melhor_individuo)\n",
        "melhor_peso = sum(pesos[i] for i in range(n) if melhor_individuo[i] == 1)\n",
        "\n",
        "# Exibe o resultado\n",
        "print(\"Melhor solução encontrada:\", melhor_individuo)\n",
        "print(\"Valor total da solução:\", melhor_nota)\n",
        "print(\"Peso total da solução:\", melhor_peso)"
      ],
      "metadata": {
        "colab": {
          "base_uri": "https://localhost:8080/"
        },
        "id": "-2Mpc8DgPWBz",
        "outputId": "2dc9e1ce-65de-4f84-c38b-c2ba46fa4d71"
      },
      "execution_count": 19,
      "outputs": [
        {
          "output_type": "stream",
          "name": "stdout",
          "text": [
            "Melhor solução encontrada: [1, 0, 1, 0, 1]\n",
            "Valor total da solução: 31\n",
            "Peso total da solução: 8\n"
          ]
        }
      ]
    },
    {
      "cell_type": "code",
      "source": [
        "import random\n",
        "import matplotlib.pyplot as plt\n",
        "\n",
        "# Parâmetros do problema\n",
        "pesos = [2, 3, 5, 7, 1]  # Pesos dos itens\n",
        "valores = [10, 5, 15, 7, 6]  # Valores dos itens\n",
        "capacidade = 10  # Capacidade da mochila\n",
        "n = len(pesos)  # Número de itens\n",
        "\n",
        "# Parâmetros do algoritmo genético\n",
        "tamanho_populacao = 10  # Número de indivíduos na população\n",
        "num_geracoes = 20  # Número de gerações\n",
        "taxa_mutacao = 0.1  # Chance de um gene (0 ou 1) sofrer mutação\n",
        "\n",
        "# Função para criar um indivíduo aleatório\n",
        "def criar_individuo():\n",
        "    return [random.randint(0, 1) for _ in range(n)]  # Lista de 0s e 1s aleatórios\n",
        "\n",
        "# Função para calcular a nota (fitness) de um indivíduo\n",
        "def calcular_nota(individuo):\n",
        "    peso_total = sum(pesos[i] for i in range(n) if individuo[i] == 1)\n",
        "    valor_total = sum(valores[i] for i in range(n) if individuo[i] == 1)\n",
        "    if peso_total > capacidade:\n",
        "        return 0  # Nota zero se o peso exceder a capacidade\n",
        "    else:\n",
        "        return valor_total  # Nota é o valor total dos itens na mochila\n",
        "\n",
        "# Função para selecionar os melhores indivíduos\n",
        "def selecionar_pais(populacao):\n",
        "    # Ordena a população pela nota (do maior para o menor)\n",
        "    populacao_ordenada = sorted(populacao, key=calcular_nota, reverse=True)\n",
        "    # Escolhe os 50% melhores para serem pais\n",
        "    return populacao_ordenada[:tamanho_populacao // 2]\n",
        "\n",
        "# Função para fazer crossover (reprodução)\n",
        "def crossover(pai1, pai2):\n",
        "    ponto_corte = random.randint(1, n - 1)  # Escolhe um ponto de corte aleatório\n",
        "    filho1 = pai1[:ponto_corte] + pai2[ponto_corte:]  # Mistura partes dos pais\n",
        "    filho2 = pai2[:ponto_corte] + pai1[ponto_corte:]\n",
        "    return filho1, filho2\n",
        "\n",
        "# Função para aplicar mutação\n",
        "def mutar(individuo):\n",
        "    for i in range(n):\n",
        "        if random.random() < taxa_mutacao:  # Chance de mutação\n",
        "            individuo[i] = 1 - individuo[i]  # Troca 0 por 1 ou 1 por 0\n",
        "    return individuo\n",
        "\n",
        "# Cria a população inicial\n",
        "populacao = [criar_individuo() for _ in range(tamanho_populacao)]\n",
        "\n",
        "# Lista para armazenar a melhor nota de cada geração\n",
        "melhores_notas = []\n",
        "\n",
        "# Variáveis para armazenar a melhor solução global\n",
        "melhor_solucao_global = None\n",
        "melhor_nota_global = -1\n",
        "melhor_peso_global = 0\n",
        "\n",
        "# Executa o algoritmo genético\n",
        "for geracao in range(num_geracoes):\n",
        "    # Seleciona os pais\n",
        "    pais = selecionar_pais(populacao)\n",
        "\n",
        "    # Cria a próxima geração\n",
        "    nova_geracao = []\n",
        "    while len(nova_geracao) < tamanho_populacao:\n",
        "        pai1, pai2 = random.sample(pais, 2)  # Escolhe dois pais aleatórios\n",
        "        filho1, filho2 = crossover(pai1, pai2)  # Faz crossover\n",
        "        nova_geracao.append(mutar(filho1))  # Aplica mutação e adiciona à nova geração\n",
        "        nova_geracao.append(mutar(filho2))\n",
        "\n",
        "    # Substitui a população antiga pela nova\n",
        "    populacao = nova_geracao\n",
        "\n",
        "    # Encontra o melhor indivíduo da geração atual\n",
        "    melhor_individuo = max(populacao, key=calcular_nota)\n",
        "    melhor_nota = calcular_nota(melhor_individuo)\n",
        "    melhor_peso = sum(pesos[i] for i in range(n) if melhor_individuo[i] == 1)\n",
        "\n",
        "    # Atualiza a melhor solução global\n",
        "    if melhor_nota > melhor_nota_global:\n",
        "        melhor_solucao_global = melhor_individuo\n",
        "        melhor_nota_global = melhor_nota\n",
        "        melhor_peso_global = melhor_peso\n",
        "\n",
        "    # Armazena a melhor nota da geração\n",
        "    melhores_notas.append(melhor_nota)\n",
        "\n",
        "    # Exibe informações da geração no console\n",
        "    print(f\"Geração {geracao + 1}:\")\n",
        "    print(\"Melhor solução encontrada:\", melhor_individuo)\n",
        "    print(\"Valor total da solução:\", melhor_nota)\n",
        "    print(\"Peso total da solução:\", melhor_peso)\n",
        "    print(\"-\" * 30)\n",
        "\n",
        "# Plota o gráfico da evolução da melhor nota\n",
        "plt.plot(range(1, num_geracoes + 1), melhores_notas, marker='o')\n",
        "plt.title(\"Evolução da Melhor Nota ao Longo das Gerações\")\n",
        "plt.xlabel(\"Geração\")\n",
        "plt.ylabel(\"Melhor Nota\")\n",
        "plt.grid(True)\n",
        "plt.show()\n",
        "\n",
        "# Exibe a melhor solução após todas as iterações\n",
        "print(\"Melhor solução encontrada:\", melhor_solucao_global)\n",
        "print(\"Valor total da solução:\", melhor_nota_global)\n",
        "print(\"Peso total da solução:\", melhor_peso_global)"
      ],
      "metadata": {
        "colab": {
          "base_uri": "https://localhost:8080/",
          "height": 1000
        },
        "id": "KLwn4wouRok8",
        "outputId": "9348146a-61ed-4757-e11b-1198ab4ac1b9"
      },
      "execution_count": 21,
      "outputs": [
        {
          "output_type": "stream",
          "name": "stdout",
          "text": [
            "Geração 1:\n",
            "Melhor solução encontrada: [1, 0, 1, 0, 1]\n",
            "Valor total da solução: 31\n",
            "Peso total da solução: 8\n",
            "------------------------------\n",
            "Geração 2:\n",
            "Melhor solução encontrada: [1, 1, 1, 0, 0]\n",
            "Valor total da solução: 30\n",
            "Peso total da solução: 10\n",
            "------------------------------\n",
            "Geração 3:\n",
            "Melhor solução encontrada: [1, 0, 1, 0, 1]\n",
            "Valor total da solução: 31\n",
            "Peso total da solução: 8\n",
            "------------------------------\n",
            "Geração 4:\n",
            "Melhor solução encontrada: [1, 1, 1, 0, 0]\n",
            "Valor total da solução: 30\n",
            "Peso total da solução: 10\n",
            "------------------------------\n",
            "Geração 5:\n",
            "Melhor solução encontrada: [1, 1, 1, 0, 0]\n",
            "Valor total da solução: 30\n",
            "Peso total da solução: 10\n",
            "------------------------------\n",
            "Geração 6:\n",
            "Melhor solução encontrada: [1, 1, 1, 0, 0]\n",
            "Valor total da solução: 30\n",
            "Peso total da solução: 10\n",
            "------------------------------\n",
            "Geração 7:\n",
            "Melhor solução encontrada: [1, 1, 1, 0, 0]\n",
            "Valor total da solução: 30\n",
            "Peso total da solução: 10\n",
            "------------------------------\n",
            "Geração 8:\n",
            "Melhor solução encontrada: [1, 1, 1, 0, 0]\n",
            "Valor total da solução: 30\n",
            "Peso total da solução: 10\n",
            "------------------------------\n",
            "Geração 9:\n",
            "Melhor solução encontrada: [1, 1, 1, 0, 0]\n",
            "Valor total da solução: 30\n",
            "Peso total da solução: 10\n",
            "------------------------------\n",
            "Geração 10:\n",
            "Melhor solução encontrada: [1, 0, 1, 0, 1]\n",
            "Valor total da solução: 31\n",
            "Peso total da solução: 8\n",
            "------------------------------\n",
            "Geração 11:\n",
            "Melhor solução encontrada: [1, 0, 1, 0, 1]\n",
            "Valor total da solução: 31\n",
            "Peso total da solução: 8\n",
            "------------------------------\n",
            "Geração 12:\n",
            "Melhor solução encontrada: [1, 0, 1, 0, 1]\n",
            "Valor total da solução: 31\n",
            "Peso total da solução: 8\n",
            "------------------------------\n",
            "Geração 13:\n",
            "Melhor solução encontrada: [1, 0, 1, 0, 1]\n",
            "Valor total da solução: 31\n",
            "Peso total da solução: 8\n",
            "------------------------------\n",
            "Geração 14:\n",
            "Melhor solução encontrada: [1, 0, 1, 0, 1]\n",
            "Valor total da solução: 31\n",
            "Peso total da solução: 8\n",
            "------------------------------\n",
            "Geração 15:\n",
            "Melhor solução encontrada: [1, 0, 1, 0, 1]\n",
            "Valor total da solução: 31\n",
            "Peso total da solução: 8\n",
            "------------------------------\n",
            "Geração 16:\n",
            "Melhor solução encontrada: [1, 0, 1, 0, 1]\n",
            "Valor total da solução: 31\n",
            "Peso total da solução: 8\n",
            "------------------------------\n",
            "Geração 17:\n",
            "Melhor solução encontrada: [1, 0, 1, 0, 1]\n",
            "Valor total da solução: 31\n",
            "Peso total da solução: 8\n",
            "------------------------------\n",
            "Geração 18:\n",
            "Melhor solução encontrada: [1, 0, 1, 0, 1]\n",
            "Valor total da solução: 31\n",
            "Peso total da solução: 8\n",
            "------------------------------\n",
            "Geração 19:\n",
            "Melhor solução encontrada: [1, 0, 1, 0, 1]\n",
            "Valor total da solução: 31\n",
            "Peso total da solução: 8\n",
            "------------------------------\n",
            "Geração 20:\n",
            "Melhor solução encontrada: [1, 0, 1, 0, 1]\n",
            "Valor total da solução: 31\n",
            "Peso total da solução: 8\n",
            "------------------------------\n"
          ]
        },
        {
          "output_type": "display_data",
          "data": {
            "text/plain": [
              "<Figure size 640x480 with 1 Axes>"
            ],
            "image/png": "[encoded data removed]"
          },
          "metadata": {}
        },
        {
          "output_type": "stream",
          "name": "stdout",
          "text": [
            "Melhor solução encontrada: [1, 0, 1, 0, 1]\n",
            "Valor total da solução: 31\n",
            "Peso total da solução: 8\n"
          ]
        }
      ]
    },
    {
      "cell_type": "code",
      "source": [],
      "metadata": {
        "id": "ZJ6jsrz6SSy2"
      },
      "execution_count": null,
      "outputs": []
    }
  ]
}